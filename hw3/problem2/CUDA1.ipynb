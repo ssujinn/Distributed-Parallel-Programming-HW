{
  "nbformat": 4,
  "nbformat_minor": 0,
  "metadata": {
    "colab": {
      "name": "CUDA1.ipynb",
      "provenance": [],
      "collapsed_sections": []
    },
    "kernelspec": {
      "name": "python3",
      "display_name": "Python 3"
    },
    "accelerator": "GPU"
  },
  "cells": [
    {
      "cell_type": "code",
      "metadata": {
        "id": "KAq6IsE4UeM2",
        "colab": {
          "base_uri": "https://localhost:8080/"
        },
        "outputId": "033577a0-f36e-4f0d-954a-41f1eb8359b1"
      },
      "source": [
        "%%writefile matrixMul_1.cu\r\n",
        "#include <stdio.h>\r\n",
        "#include <stdlib.h>\r\n",
        "#include <time.h>\r\n",
        "\r\n",
        "#define R 4096\r\n",
        "#define C 4096\r\n",
        "#define BLOCK_W 32\r\n",
        "#define BLOCK_H 32\r\n",
        "\r\n",
        "float *a, *b, *result;\r\n",
        "\r\n",
        "__global__ void multiple(float *A, float *B, float *res){\r\n",
        "    int row = blockIdx.y * blockDim.y + threadIdx.y;\r\n",
        "    int col = blockIdx.x * blockDim.x + threadIdx.x;\r\n",
        "\r\n",
        "    float ret = 0;\r\n",
        "\r\n",
        "    for (int i = 0; i < C; i += BLOCK_W){\r\n",
        "        for (int j = i; j < i + BLOCK_W; j++){\r\n",
        "            ret += A[row * C + j] * B[j * C + col];\r\n",
        "        }\r\n",
        "    }\r\n",
        "\r\n",
        "    res[row * C + col] = ret;\r\n",
        "}\r\n",
        "\r\n",
        "int main(){\r\n",
        "  float *d_a, *d_b, *d_r;\r\n",
        "  cudaEvent_t start, end;\r\n",
        "  float etime;\r\n",
        "  dim3 block(BLOCK_W, BLOCK_H);\r\n",
        "  dim3 grid(C/BLOCK_W, R/BLOCK_H);\r\n",
        "\r\n",
        "  a = (float*)malloc(sizeof(float)*R*C);\r\n",
        "  b = (float*)malloc(sizeof(float)*R*C);\r\n",
        "  result = (float*)malloc(sizeof(float)*R*C);\r\n",
        "\r\n",
        "  cudaEventCreate(&start);\r\n",
        "\tcudaEventCreate(&end);\r\n",
        "\tsrand(time(NULL));\r\n",
        "\r\n",
        "  // random number creation\r\n",
        "\tfor (int i = 0; i < R; i++)\r\n",
        "    for (int j = 0; j < C; j++){\r\n",
        "       a[i * C + j] = (rand() % 1000000) / (float)10000;\r\n",
        "       b[i * C + j] = (rand() % 1000000) / (float)10000;\r\n",
        "    }\r\n",
        "\r\n",
        "  // cuda var initialization\r\n",
        "  cudaMalloc((void**)&d_a, sizeof(float)*R*C);\r\n",
        "  cudaMalloc((void**)&d_b, sizeof(float)*R*C);\r\n",
        "  cudaMalloc((void**)&d_r, sizeof(float)*R*C);\r\n",
        "  \r\n",
        "\r\n",
        "  // kernel call & exec time check\r\n",
        "  cudaEventRecord(start, 0);\r\n",
        "  cudaMemcpy(d_a, a, sizeof(float)*R*C, cudaMemcpyHostToDevice);\r\n",
        "  cudaMemcpy(d_b, b, sizeof(float)*R*C, cudaMemcpyHostToDevice);\r\n",
        "\tmultiple<<<grid, block>>>(d_a, d_b, d_r);\r\n",
        "  cudaMemcpy(result, d_r, sizeof(float)*R*C, cudaMemcpyDeviceToHost);\r\n",
        "\tcudaEventRecord(end, 0);\r\n",
        "\tcudaEventSynchronize(end);\r\n",
        "\tcudaEventElapsedTime(&etime, start, end);\r\n",
        "\r\n",
        "\tprintf(\"EXEC TIME : %f ms\\n\", etime);\r\n",
        "\r\n",
        "  cudaEventDestroy(start);\r\n",
        "\tcudaEventDestroy(end);\r\n",
        "  cudaFree(d_a);\r\n",
        "  cudaFree(d_b);\r\n",
        "  cudaFree(d_r);\r\n",
        "\r\n",
        "\treturn 0;\r\n",
        "}"
      ],
      "execution_count": 1,
      "outputs": [
        {
          "output_type": "stream",
          "text": [
            "Overwriting matrixMul_1.cu\n"
          ],
          "name": "stdout"
        }
      ]
    },
    {
      "cell_type": "code",
      "metadata": {
        "id": "2fr3UL1aUebg"
      },
      "source": [
        "!nvcc -o matrixMul matrixMul_1.cu"
      ],
      "execution_count": 2,
      "outputs": []
    },
    {
      "cell_type": "code",
      "metadata": {
        "id": "1Gz8LpCdUejZ",
        "colab": {
          "base_uri": "https://localhost:8080/"
        },
        "outputId": "b61988b7-cbc2-45ee-d170-4d724ada84a8"
      },
      "source": [
        "!./matrixMul"
      ],
      "execution_count": 3,
      "outputs": [
        {
          "output_type": "stream",
          "text": [
            "EXEC TIME : 525.268921 ms\n"
          ],
          "name": "stdout"
        }
      ]
    },
    {
      "cell_type": "code",
      "metadata": {
        "colab": {
          "base_uri": "https://localhost:8080/"
        },
        "cellView": "code",
        "id": "4LFPXBMX08z7",
        "outputId": "e28d2c32-6109-4141-d521-55af62e15815"
      },
      "source": [
        "%%writefile matrixMul_2.cu\n",
        "#include <stdio.h>\n",
        "#include <stdlib.h>\n",
        "#include <time.h>\n",
        "\n",
        "#define R 4096\n",
        "#define C 4096\n",
        "#define BLOCK_W 32\n",
        "#define BLOCK_H 32\n",
        "#define SHARED_SIZE (BLOCK_W*BLOCK_H*4)\n",
        "\n",
        "float *a, *b, *result;\n",
        "\n",
        "__global__ void multiple(float *A, float *B, float *res){\n",
        "    __shared__ float shared_A[BLOCK_W * BLOCK_H];\n",
        "    __shared__ float shared_B[BLOCK_W * BLOCK_H];\n",
        "    int tx = threadIdx.x, ty = threadIdx.y;\n",
        "    int row = blockIdx.y * blockDim.y + threadIdx.y;\n",
        "    int col = blockIdx.x * blockDim.x + threadIdx.x;\n",
        "\n",
        "    float ret = 0;\n",
        "\n",
        "    for (int k = 0; k < (C - 1) / BLOCK_W + 1; k++){\n",
        "        if (row < R && k * BLOCK_W + tx < C)\n",
        "            shared_A[ty * BLOCK_W + tx] = A[row * C + k * BLOCK_W + tx];\n",
        "        else\n",
        "            shared_A[ty * BLOCK_W + tx] = 0;\n",
        "\n",
        "        if (col < C && k * BLOCK_H + ty < R)\n",
        "            shared_B[ty * BLOCK_W + tx] = B[(k * BLOCK_W + ty) * C + col];\n",
        "        else\n",
        "            shared_B[ty * BLOCK_W + tx] = 0;\n",
        "\n",
        "        __syncthreads();\n",
        "\n",
        "        for (int i = 0; i < BLOCK_W; i++){\n",
        "          ret += shared_A[ty * BLOCK_W + i] * shared_B[i * BLOCK_W + tx];\n",
        "        }\n",
        "        __syncthreads();\n",
        "    }\n",
        "\n",
        "    if (row < C && col < C)\n",
        "        res[row * C + col] = ret;\n",
        "}\n",
        "\n",
        "int main(){\n",
        "  float *d_a, *d_b, *d_r;\n",
        "  cudaEvent_t start, end;\n",
        "  float etime;\n",
        "  dim3 block(BLOCK_W, BLOCK_H);\n",
        "  dim3 grid(C/BLOCK_W, R/BLOCK_H);\n",
        "\n",
        "  a = (float*)malloc(sizeof(float)*R*C);\n",
        "  b = (float*)malloc(sizeof(float)*R*C);\n",
        "  result = (float*)malloc(sizeof(float)*R*C);\n",
        "\n",
        "  cudaEventCreate(&start);\n",
        "\tcudaEventCreate(&end);\n",
        "\tsrand(time(NULL));\n",
        "\n",
        "  // random number creation\n",
        "\tfor (int i = 0; i < R; i++)\n",
        "    for (int j = 0; j < C; j++){\n",
        "       a[i * C + j] = (rand() % 1000000) / (float)10000;\n",
        "       b[i * C + j] = (rand() % 1000000) / (float)10000;\n",
        "    }\n",
        "\n",
        "  // cuda var initialization\n",
        "  cudaMalloc((void**)&d_a, sizeof(float)*R*C);\n",
        "  cudaMalloc((void**)&d_b, sizeof(float)*R*C);\n",
        "  cudaMalloc((void**)&d_r, sizeof(float)*R*C);\n",
        "\n",
        "  // kernel call & exec time check\n",
        "  cudaEventRecord(start, 0);\n",
        "  cudaMemcpy(d_a, a, sizeof(float)*R*C, cudaMemcpyHostToDevice);\n",
        "  cudaMemcpy(d_b, b, sizeof(float)*R*C, cudaMemcpyHostToDevice);\n",
        "\tmultiple<<<grid, block, 2 * SHARED_SIZE>>>(d_a, d_b, d_r);\n",
        "  cudaMemcpy(result, d_r, sizeof(float)*R*C, cudaMemcpyDeviceToHost);\n",
        "  cudaEventRecord(end, 0);\n",
        "\tcudaEventSynchronize(end);\n",
        "\tcudaEventElapsedTime(&etime, start, end);\n",
        "\n",
        "\tprintf(\"EXEC TIME : %f ms\\n\", etime);\n",
        "\n",
        "  cudaEventDestroy(start);\n",
        "\tcudaEventDestroy(end);\n",
        "  cudaFree(d_a);\n",
        "  cudaFree(d_b);\n",
        "  cudaFree(d_r);\n",
        "\n",
        "\treturn 0;\n",
        "}"
      ],
      "execution_count": 4,
      "outputs": [
        {
          "output_type": "stream",
          "text": [
            "Overwriting matrixMul_2.cu\n"
          ],
          "name": "stdout"
        }
      ]
    },
    {
      "cell_type": "code",
      "metadata": {
        "id": "4SAiBDk41CO0"
      },
      "source": [
        "!nvcc -o matrixMul matrixMul_2.cu"
      ],
      "execution_count": 5,
      "outputs": []
    },
    {
      "cell_type": "code",
      "metadata": {
        "colab": {
          "base_uri": "https://localhost:8080/"
        },
        "id": "udd41BxB1E2G",
        "outputId": "8612644b-f7cb-445b-bea8-95d9afc2fc5c"
      },
      "source": [
        "!./matrixMul"
      ],
      "execution_count": 6,
      "outputs": [
        {
          "output_type": "stream",
          "text": [
            "EXEC TIME : 125.796188 ms\n"
          ],
          "name": "stdout"
        }
      ]
    },
    {
      "cell_type": "code",
      "metadata": {
        "colab": {
          "base_uri": "https://localhost:8080/"
        },
        "id": "c8DhUGcu1I8T",
        "outputId": "9902eee7-483b-496b-eba6-72971f562f22"
      },
      "source": [
        "%%writefile matrixMul_3.cu\r\n",
        "#include <stdio.h>\r\n",
        "#include <stdlib.h>\r\n",
        "#include <time.h>\r\n",
        "\r\n",
        "#define R 4096\r\n",
        "#define C 4096\r\n",
        "#define BLOCK_W 32\r\n",
        "#define BLOCK_H 32\r\n",
        "#define SHARED_SIZE (BLOCK_W*BLOCK_H*4)\r\n",
        "#define NSTREAM 1\r\n",
        "\r\n",
        "float *a, *b, *result;\r\n",
        "\r\n",
        "__global__ void multiple(float *A, float *B, float *res){\r\n",
        "    __shared__ float shared_A[BLOCK_W * BLOCK_H];\r\n",
        "    __shared__ float shared_B[BLOCK_W * BLOCK_H];\r\n",
        "    int tx = threadIdx.x, ty = threadIdx.y;\r\n",
        "    int row = blockIdx.y * blockDim.y + threadIdx.y;\r\n",
        "    int col = blockIdx.x * blockDim.x + threadIdx.x;\r\n",
        "\r\n",
        "    float ret = 0;\r\n",
        "\r\n",
        "    for (int k = 0; k < (C - 1) / BLOCK_W + 1; k++){\r\n",
        "        if (row < R && k * BLOCK_W + tx < C)\r\n",
        "            shared_A[ty * BLOCK_W + tx] = A[row * C + k * BLOCK_W + tx];\r\n",
        "        else\r\n",
        "            shared_A[ty * BLOCK_W + tx] = 0;\r\n",
        "\r\n",
        "        if (col < C && k * BLOCK_H + ty < R)\r\n",
        "            shared_B[ty * BLOCK_W + tx] = B[(k * BLOCK_W + ty) * C + col];\r\n",
        "        else\r\n",
        "            shared_B[ty * BLOCK_W + tx] = 0;\r\n",
        "\r\n",
        "        __syncthreads();\r\n",
        "\r\n",
        "        for (int i = 0; i < BLOCK_W; i++){\r\n",
        "          ret += shared_A[ty * BLOCK_W + i] * shared_B[i * BLOCK_W + tx];\r\n",
        "        }\r\n",
        "        __syncthreads();\r\n",
        "    }\r\n",
        "\r\n",
        "    if (row < C && col < C)\r\n",
        "        res[row * C + col] = ret;\r\n",
        "}\r\n",
        "\r\n",
        "int main(){\r\n",
        "  float *d_a, *d_b, *d_r;\r\n",
        "  cudaEvent_t start, end;\r\n",
        "  float etime;\r\n",
        "  dim3 block(BLOCK_W, BLOCK_H);\r\n",
        "  dim3 grid(C/BLOCK_W, R/BLOCK_H);\r\n",
        "\r\n",
        "  cudaStream_t stream[NSTREAM];\r\n",
        "  for (int i = 0 ; i < NSTREAM; i++)\r\n",
        "    cudaStreamCreate(&stream[i]);\r\n",
        "\r\n",
        "  a = (float*)malloc(sizeof(float)*R*C);\r\n",
        "  b = (float*)malloc(sizeof(float)*R*C);\r\n",
        "  result = (float*)malloc(sizeof(float)*R*C);\r\n",
        "\r\n",
        "  cudaEventCreate(&start);\r\n",
        "\tcudaEventCreate(&end);\r\n",
        "\tsrand(time(NULL));\r\n",
        "\r\n",
        "  // random number creation\r\n",
        "\tfor (int i = 0; i < R; i++)\r\n",
        "    for (int j = 0; j < C; j++){\r\n",
        "       a[i * C + j] = (rand() % 1000000) / (float)10000;\r\n",
        "       b[i * C + j] = (rand() % 1000000) / (float)10000;\r\n",
        "    }\r\n",
        "\r\n",
        "  // cuda var initialization\r\n",
        "  cudaMalloc((void**)&d_a, sizeof(float)*R*C);\r\n",
        "  cudaMalloc((void**)&d_b, sizeof(float)*R*C);\r\n",
        "  cudaMalloc((void**)&d_r, sizeof(float)*R*C);\r\n",
        "\r\n",
        "    // kernel call & exec time check\r\n",
        "  cudaEventRecord(start, 0);\r\n",
        "  cudaMemcpy(d_b, b, sizeof(float)*R*C, cudaMemcpyHostToDevice);\r\n",
        "  for (int i = 0; i < NSTREAM; i++){\r\n",
        "      int ELES_PER_STREAM = R * C / NSTREAM;\r\n",
        "      int offset = i * ELES_PER_STREAM;\r\n",
        "      cudaMemcpyAsync(&d_a[offset], &a[offset], sizeof(float)*ELES_PER_STREAM, cudaMemcpyHostToDevice, stream[i]);\r\n",
        "      multiple<<<grid, block, 2 * SHARED_SIZE, stream[i]>>>(d_a + offset, d_b, d_r + offset);\r\n",
        "      cudaMemcpyAsync(&result[offset], &d_r[offset], sizeof(float)*ELES_PER_STREAM, cudaMemcpyDeviceToHost, stream[i]);\r\n",
        "  }\r\n",
        "\r\n",
        "  for (int i = 0; i < NSTREAM; i++)\r\n",
        "    cudaStreamSynchronize(stream[i]);\r\n",
        "  \r\n",
        "\tcudaEventRecord(end, 0);\r\n",
        "\tcudaEventSynchronize(end);\r\n",
        "\tcudaEventElapsedTime(&etime, start, end);\r\n",
        "\r\n",
        "\tprintf(\"EXEC TIME : %f ms\\n\", etime);\r\n",
        "\r\n",
        "  cudaEventDestroy(start);\r\n",
        "\tcudaEventDestroy(end);\r\n",
        "  cudaFree(d_a);\r\n",
        "  cudaFree(d_b);\r\n",
        "  cudaFree(d_r);\r\n",
        "\r\n",
        "\treturn 0;\r\n",
        "}"
      ],
      "execution_count": 7,
      "outputs": [
        {
          "output_type": "stream",
          "text": [
            "Overwriting matrixMul_3.cu\n"
          ],
          "name": "stdout"
        }
      ]
    },
    {
      "cell_type": "code",
      "metadata": {
        "id": "RlsS81iZ1K4q"
      },
      "source": [
        "!nvcc -o matrixMul matrixMul_3.cu"
      ],
      "execution_count": 8,
      "outputs": []
    },
    {
      "cell_type": "code",
      "metadata": {
        "colab": {
          "base_uri": "https://localhost:8080/"
        },
        "id": "qAFkbQzI1NGz",
        "outputId": "a33627cb-878b-445b-ea26-98789996bcc8"
      },
      "source": [
        "!./matrixMul"
      ],
      "execution_count": 9,
      "outputs": [
        {
          "output_type": "stream",
          "text": [
            "EXEC TIME : 123.436478 ms\n"
          ],
          "name": "stdout"
        }
      ]
    }
  ]
}