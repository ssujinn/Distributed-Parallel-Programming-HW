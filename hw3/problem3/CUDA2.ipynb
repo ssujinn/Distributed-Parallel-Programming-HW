{
  "nbformat": 4,
  "nbformat_minor": 0,
  "metadata": {
    "colab": {
      "name": "CUDA2.ipynb",
      "provenance": [],
      "collapsed_sections": []
    },
    "kernelspec": {
      "name": "python3",
      "display_name": "Python 3"
    },
    "accelerator": "GPU"
  },
  "cells": [
    {
      "cell_type": "code",
      "metadata": {
        "colab": {
          "base_uri": "https://localhost:8080/"
        },
        "id": "RXt4x1HzwZAA",
        "outputId": "e7f2be4c-3eb1-475b-9108-edf43f4d8665"
      },
      "source": [
        "%%writefile reduction_a.c\r\n",
        "#include <stdio.h>\r\n",
        "#include <stdlib.h>\r\n",
        "#include <time.h>\r\n",
        "\r\n",
        "#define NUM_ELEMENT 100000\r\n",
        "\r\n",
        "int main() {\r\n",
        "\tint* arr;\r\n",
        "\tint max = 0;\r\n",
        "\tclock_t start, end;\r\n",
        "\r\n",
        "  // random number creation\r\n",
        "\tsrand(time(NULL));\r\n",
        "\tarr = (int*)malloc(sizeof(int) * NUM_ELEMENT);\r\n",
        "\tfor (int i = 0; i < NUM_ELEMENT; i++)\r\n",
        "\t\tarr[i] = rand() % (NUM_ELEMENT * 10);\r\n",
        "\r\n",
        "  // finding max num\r\n",
        "\tstart = clock();\r\n",
        "\tfor (int i = 0; i < NUM_ELEMENT; i++) {\r\n",
        "\t\tif (max < arr[i])\r\n",
        "\t\t\tmax = arr[i];\r\n",
        "\t}\r\n",
        "\tend = clock();\r\n",
        "\r\n",
        "\tprintf(\"MAX NUM : %d\\n\", max);\r\n",
        "\tprintf(\"EXEC TIME : %f ms\\n\", (float)(end - start));\r\n",
        "\t\r\n",
        "\treturn 0;\r\n",
        "}"
      ],
      "execution_count": 1,
      "outputs": [
        {
          "output_type": "stream",
          "text": [
            "Overwriting reduction_a.c\n"
          ],
          "name": "stdout"
        }
      ]
    },
    {
      "cell_type": "code",
      "metadata": {
        "id": "VE2_Xj20wedh"
      },
      "source": [
        "!nvcc -o reduction_a reduction_a.c"
      ],
      "execution_count": 2,
      "outputs": []
    },
    {
      "cell_type": "code",
      "metadata": {
        "colab": {
          "base_uri": "https://localhost:8080/"
        },
        "id": "1ADpi93HwhG0",
        "outputId": "ee6ffdde-52ba-44ac-af9e-791af0e6151f"
      },
      "source": [
        "!./reduction_a"
      ],
      "execution_count": 3,
      "outputs": [
        {
          "output_type": "stream",
          "text": [
            "MAX NUM : 999996\n",
            "EXEC TIME : 250.000000 ms\n"
          ],
          "name": "stdout"
        }
      ]
    },
    {
      "cell_type": "code",
      "metadata": {
        "id": "BvjmjCoqpZLp",
        "colab": {
          "base_uri": "https://localhost:8080/"
        },
        "outputId": "c57e3cd4-0058-4379-f684-af6733b9b6f1"
      },
      "source": [
        "%%writefile reduction_b.cu\n",
        "#include <stdio.h>\n",
        "#include <stdlib.h>\n",
        "#include <time.h>\n",
        "\n",
        "#define NUM_ELEMENT 100000\n",
        "#define BLOCK_SIZE 128\n",
        "#define GRID_SIZE ((NUM_ELEMENT + BLOCK_SIZE - 1) / BLOCK_SIZE)\n",
        "\n",
        "__global__ void reduction_max(int *Arr, int *Max){\n",
        "    int id = blockIdx.x * blockDim.x + threadIdx.x;\n",
        "\n",
        "    for (int i = 1; i < blockDim.x; i *= 2){\n",
        "        if (id % (2*i) == 0){\n",
        "            if (Arr[id] < Arr[id + i])\n",
        "              Arr[id] = Arr[id + i];\n",
        "        }\n",
        "        __syncthreads();\n",
        "    }\n",
        "\n",
        "    if (id == 0)\n",
        "      Max[0] = Arr[0];\n",
        "}\n",
        "\n",
        "int main(){\n",
        "\tint* arr;\n",
        "  int* d_arr, *d_max;\n",
        "\tint max = 0;\n",
        "  cudaEvent_t start, end;\n",
        "  float etime;\n",
        "  dim3 block(BLOCK_SIZE);\n",
        "  dim3 grid(GRID_SIZE);\n",
        "\n",
        "  cudaEventCreate(&start);\n",
        "\tcudaEventCreate(&end);\n",
        "\tsrand(time(NULL));\n",
        "\n",
        "  // random number creation\n",
        "\tarr = (int*)malloc(sizeof(int) * NUM_ELEMENT);\n",
        "\tfor (int i = 0; i < NUM_ELEMENT; i++)\n",
        "\t\tarr[i] = rand() % (NUM_ELEMENT * 10);\n",
        "\n",
        "  // tmp print\n",
        "\t//for (int i = 0; i < NUM_ELEMENT; i++)\n",
        "\t//\tprintf(\"%d\\n\", arr[i]);\n",
        "\n",
        "  // cuda var initialization\n",
        "  cudaMalloc((void**)&d_arr, sizeof(int)*NUM_ELEMENT);\n",
        "  cudaMalloc((void**)&d_max, sizeof(int));\n",
        "  cudaMemcpy(d_arr, arr, sizeof(int)*NUM_ELEMENT, cudaMemcpyHostToDevice);\n",
        "\n",
        "  // kernel call & exec time check\n",
        "  cudaEventRecord(start, 0);\n",
        "\treduction_max<<<grid, block>>>(d_arr, d_max);\n",
        "\tcudaEventRecord(end, 0);\n",
        "\tcudaEventSynchronize(end);\n",
        "\tcudaEventElapsedTime(&etime, start, end);\n",
        "\n",
        "  cudaMemcpy(&max, d_max, sizeof(int), cudaMemcpyDeviceToHost);\n",
        "\n",
        "\tprintf(\"MAX NUM : %d\\n\", max);\n",
        "\tprintf(\"EXEC TIME : %f ms\\n\", etime);\n",
        "\n",
        "  cudaEventDestroy(start);\n",
        "\tcudaEventDestroy(end);\n",
        "  cudaFree(d_arr);\n",
        "  cudaFree(d_max);\n",
        "\n",
        "\treturn 0;\n",
        "}"
      ],
      "execution_count": 4,
      "outputs": [
        {
          "output_type": "stream",
          "text": [
            "Overwriting reduction_b.cu\n"
          ],
          "name": "stdout"
        }
      ]
    },
    {
      "cell_type": "code",
      "metadata": {
        "id": "ajz22z1gpz_K"
      },
      "source": [
        "!nvcc -o reduction_b reduction_b.cu"
      ],
      "execution_count": 5,
      "outputs": []
    },
    {
      "cell_type": "code",
      "metadata": {
        "id": "BbeHFkNhp4Gg",
        "colab": {
          "base_uri": "https://localhost:8080/"
        },
        "outputId": "63ac4fb5-0987-44ed-eaeb-d9b4c46faf36"
      },
      "source": [
        "!./reduction_b"
      ],
      "execution_count": 6,
      "outputs": [
        {
          "output_type": "stream",
          "text": [
            "MAX NUM : 987896\n",
            "EXEC TIME : 0.023008 ms\n"
          ],
          "name": "stdout"
        }
      ]
    },
    {
      "cell_type": "code",
      "metadata": {
        "colab": {
          "base_uri": "https://localhost:8080/"
        },
        "id": "vsGp1gm-bM4-",
        "outputId": "68a71d2f-4816-4d5f-fcbb-e43e31060d39"
      },
      "source": [
        "%%writefile reduction_c.cu\r\n",
        "#include <stdio.h>\r\n",
        "#include <stdlib.h>\r\n",
        "#include <time.h>\r\n",
        "\r\n",
        "#define NUM_ELEMENT 100000\r\n",
        "#define BLOCK_SIZE 128\r\n",
        "#define GRID_SIZE ((NUM_ELEMENT + BLOCK_SIZE - 1) / BLOCK_SIZE)\r\n",
        "#define WARP_SIZE 32\r\n",
        "\r\n",
        "__global__ void reduction_max(int *Arr, int *Max){\r\n",
        "    int id = blockIdx.x * blockDim.x + threadIdx.x;\r\n",
        "\r\n",
        "    for (int i = 1; i < blockDim.x; i *= 2){\r\n",
        "        if ((id / WARP_SIZE) % (2*i) == 0){\r\n",
        "            if (Arr[id] < Arr[id + i])\r\n",
        "              Arr[id] = Arr[id + i];\r\n",
        "        }\r\n",
        "        __syncthreads();\r\n",
        "    }\r\n",
        "\r\n",
        "    if (id == 0)\r\n",
        "      Max[0] = Arr[0];\r\n",
        "}\r\n",
        "\r\n",
        "int main(){\r\n",
        "\tint* arr;\r\n",
        "  int* d_arr, *d_max;\r\n",
        "\tint max = 0;\r\n",
        "  cudaEvent_t start, end;\r\n",
        "  float etime;\r\n",
        "  dim3 block(BLOCK_SIZE);\r\n",
        "  dim3 grid(GRID_SIZE);\r\n",
        "\r\n",
        "  cudaEventCreate(&start);\r\n",
        "\tcudaEventCreate(&end);\r\n",
        "\tsrand(time(NULL));\r\n",
        "\r\n",
        "  // random number creation\r\n",
        "\tarr = (int*)malloc(sizeof(int) * NUM_ELEMENT);\r\n",
        "\tfor (int i = 0; i < NUM_ELEMENT; i++)\r\n",
        "\t\tarr[i] = rand() % (NUM_ELEMENT * 10);\r\n",
        "\r\n",
        "  // tmp print\r\n",
        "\t//for (int i = 0; i < NUM_ELEMENT; i++)\r\n",
        "\t//\tprintf(\"%d\\n\", arr[i]);\r\n",
        "\r\n",
        "  // cuda var initialization\r\n",
        "  cudaMalloc((void**)&d_arr, sizeof(int)*NUM_ELEMENT);\r\n",
        "  cudaMalloc((void**)&d_max, sizeof(int));\r\n",
        "  cudaMemcpy(d_arr, arr, sizeof(int)*NUM_ELEMENT, cudaMemcpyHostToDevice);\r\n",
        "\r\n",
        "  // kernel call & exec time check\r\n",
        "  cudaEventRecord(start, 0);\r\n",
        "\treduction_max<<<grid, block>>>(d_arr, d_max);\r\n",
        "\tcudaEventRecord(end, 0);\r\n",
        "\tcudaEventSynchronize(end);\r\n",
        "\tcudaEventElapsedTime(&etime, start, end);\r\n",
        "\r\n",
        "  cudaMemcpy(&max, d_max, sizeof(int), cudaMemcpyDeviceToHost);\r\n",
        "\r\n",
        "\tprintf(\"MAX NUM : %d\\n\", max);\r\n",
        "\tprintf(\"EXEC TIME : %f ms\\n\", etime);\r\n",
        "\r\n",
        "  cudaEventDestroy(start);\r\n",
        "\tcudaEventDestroy(end);\r\n",
        "  cudaFree(d_arr);\r\n",
        "  cudaFree(d_max);\r\n",
        "\r\n",
        "\treturn 0;\r\n",
        "}"
      ],
      "execution_count": 7,
      "outputs": [
        {
          "output_type": "stream",
          "text": [
            "Overwriting reduction_c.cu\n"
          ],
          "name": "stdout"
        }
      ]
    },
    {
      "cell_type": "code",
      "metadata": {
        "id": "10SLtMFgbQFB"
      },
      "source": [
        "!nvcc -o reduction_c reduction_c.cu"
      ],
      "execution_count": 8,
      "outputs": []
    },
    {
      "cell_type": "code",
      "metadata": {
        "colab": {
          "base_uri": "https://localhost:8080/"
        },
        "id": "MrHYUxoebSUJ",
        "outputId": "ec0ce00a-769c-4b9e-80a7-3ee31e27723b"
      },
      "source": [
        "!./reduction_c"
      ],
      "execution_count": 9,
      "outputs": [
        {
          "output_type": "stream",
          "text": [
            "MAX NUM : 989165\n",
            "EXEC TIME : 0.021088 ms\n"
          ],
          "name": "stdout"
        }
      ]
    },
    {
      "cell_type": "code",
      "metadata": {
        "colab": {
          "base_uri": "https://localhost:8080/"
        },
        "id": "GuZE4VLX57Sm",
        "outputId": "fbdca536-9051-4cd3-95ae-6bdb33ec41c1"
      },
      "source": [
        "%%writefile reduction_d.cu\r\n",
        "#include <stdio.h>\r\n",
        "#include <stdlib.h>\r\n",
        "#include <time.h>\r\n",
        "\r\n",
        "#define NUM_ELEMENT 100000\r\n",
        "#define BLOCK_SIZE 32\r\n",
        "#define GRID_SIZE ((NUM_ELEMENT + BLOCK_SIZE - 1) / BLOCK_SIZE)\r\n",
        "#define WARP_SIZE 32\r\n",
        "#define SHARED_SIZE (BLOCK_SIZE * 4)\r\n",
        "\r\n",
        "__global__ void reduction_max(int *Arr, int *Max){\r\n",
        "    extern __shared__ int sharedmem[];\r\n",
        "    int tid = threadIdx.x;\r\n",
        "    int id = blockIdx.x * blockDim.x + threadIdx.x;\r\n",
        "\r\n",
        "    sharedmem[tid] = Arr[id];\r\n",
        "    __syncthreads();\r\n",
        "\r\n",
        "    for (int i = 1; i < blockDim.x; i *= 2){\r\n",
        "        if ((tid / WARP_SIZE) % (2*i) == 0){\r\n",
        "            if (sharedmem[tid] < sharedmem[tid + i])\r\n",
        "              sharedmem[tid] = sharedmem[tid + i];\r\n",
        "        }\r\n",
        "        __syncthreads();\r\n",
        "    }\r\n",
        "\r\n",
        "    if (tid == 0)\r\n",
        "      Max[0] = sharedmem[0];\r\n",
        "}\r\n",
        "\r\n",
        "int main(){\r\n",
        "\tint* arr;\r\n",
        "  int* d_arr, *d_max;\r\n",
        "\tint max = 0;\r\n",
        "  cudaEvent_t start, end;\r\n",
        "  float etime;\r\n",
        "  dim3 block(BLOCK_SIZE);\r\n",
        "  dim3 grid(GRID_SIZE);\r\n",
        "\r\n",
        "  cudaEventCreate(&start);\r\n",
        "\tcudaEventCreate(&end);\r\n",
        "\tsrand(time(NULL));\r\n",
        "\r\n",
        "  // random number creation\r\n",
        "\tarr = (int*)malloc(sizeof(int) * NUM_ELEMENT);\r\n",
        "\tfor (int i = 0; i < NUM_ELEMENT; i++)\r\n",
        "\t\tarr[i] = rand() % (NUM_ELEMENT * 10);\r\n",
        "\r\n",
        "  // tmp print\r\n",
        "\t//for (int i = 0; i < NUM_ELEMENT; i++)\r\n",
        "\t//\tprintf(\"%d\\n\", arr[i]);\r\n",
        "\r\n",
        "  // cuda var initialization\r\n",
        "  cudaMalloc((void**)&d_arr, sizeof(int)*NUM_ELEMENT);\r\n",
        "  cudaMalloc((void**)&d_max, sizeof(int));\r\n",
        "  cudaMemcpy(d_arr, arr, sizeof(int)*NUM_ELEMENT, cudaMemcpyHostToDevice);\r\n",
        "\r\n",
        "  // kernel call & exec time check\r\n",
        "  cudaEventRecord(start, 0);\r\n",
        "\treduction_max<<<grid, block, SHARED_SIZE>>>(d_arr, d_max);\r\n",
        "\tcudaEventRecord(end, 0);\r\n",
        "\tcudaEventSynchronize(end);\r\n",
        "\tcudaEventElapsedTime(&etime, start, end);\r\n",
        "\r\n",
        "  cudaMemcpy(&max, d_max, sizeof(int), cudaMemcpyDeviceToHost);\r\n",
        "\r\n",
        "\tprintf(\"MAX NUM : %d\\n\", max);\r\n",
        "\tprintf(\"EXEC TIME : %f ms\\n\", etime);\r\n",
        "\r\n",
        "  cudaEventDestroy(start);\r\n",
        "\tcudaEventDestroy(end);\r\n",
        "  cudaFree(d_arr);\r\n",
        "  cudaFree(d_max);\r\n",
        "\r\n",
        "\treturn 0;\r\n",
        "}"
      ],
      "execution_count": 10,
      "outputs": [
        {
          "output_type": "stream",
          "text": [
            "Overwriting reduction_d.cu\n"
          ],
          "name": "stdout"
        }
      ]
    },
    {
      "cell_type": "code",
      "metadata": {
        "id": "JFkxiT1k7LIC"
      },
      "source": [
        "!nvcc -o reduction_d reduction_d.cu"
      ],
      "execution_count": 11,
      "outputs": []
    },
    {
      "cell_type": "code",
      "metadata": {
        "colab": {
          "base_uri": "https://localhost:8080/"
        },
        "id": "ubyGX8aU7Nr_",
        "outputId": "ac0a5478-5d66-4c83-fab4-378eecd96d40"
      },
      "source": [
        "!./reduction_d"
      ],
      "execution_count": 12,
      "outputs": [
        {
          "output_type": "stream",
          "text": [
            "MAX NUM : 964131\n",
            "EXEC TIME : 0.019616 ms\n"
          ],
          "name": "stdout"
        }
      ]
    }
  ]
}